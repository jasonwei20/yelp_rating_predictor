{
 "cells": [
  {
   "cell_type": "markdown",
   "metadata": {},
   "source": [
    "# Predicting Yelp Reviews"
   ]
  },
  {
   "cell_type": "code",
   "execution_count": 1,
   "metadata": {
    "collapsed": true
   },
   "outputs": [],
   "source": [
    "import os\n",
    "import json\n",
    "import string\n",
    "import nltk\n",
    "\n",
    "from sklearn.feature_extraction.text import TfidfVectorizer\n",
    "from nltk.tokenize import word_tokenize, wordpunct_tokenize, sent_tokenize\n",
    "from nltk.stem import WordNetLemmatizer\n",
    "import numpy as np\n",
    "from sklearn import metrics\n",
    "from sklearn.metrics import pairwise_distances\n",
    "from sklearn.metrics import silhouette_samples, silhouette_score\n",
    "from sklearn.feature_extraction.text import TfidfVectorizer\n",
    "from sklearn.externals import joblib\n",
    "import time\n",
    "\n",
    "root_dir = \".\"\n",
    "    \n",
    "wordnet_lemmatizer = WordNetLemmatizer()"
   ]
  },
  {
   "cell_type": "code",
   "execution_count": 2,
   "metadata": {},
   "outputs": [],
   "source": [
    "with open('yelp.json') as data_file:    \n",
    "    data = json.load(data_file)"
   ]
  },
  {
   "cell_type": "code",
   "execution_count": 3,
   "metadata": {},
   "outputs": [
    {
     "data": {
      "text/plain": [
       "{'business_id': '0W4lkclzZThpx3V65bVgig',\n",
       " 'cool': 0,\n",
       " 'date': '2016-05-28',\n",
       " 'funny': 0,\n",
       " 'review_id': 'v0i_UHJMo_hPBq9bxWvW4w',\n",
       " 'stars': 5,\n",
       " 'text': \"Love the staff, love the meat, love the place. Prepare for a long line around lunch or dinner hours. \\n\\nThey ask you how you want you meat, lean or something maybe, I can't remember. Just say you don't want it too fatty. \\n\\nGet a half sour pickle and a hot pepper. Hand cut french fries too.\",\n",
       " 'useful': 0,\n",
       " 'user_id': 'bv2nCi5Qv5vroFiqKGopiw'}"
      ]
     },
     "execution_count": 3,
     "metadata": {},
     "output_type": "execute_result"
    }
   ],
   "source": [
    "data[0]"
   ]
  },
  {
   "cell_type": "code",
   "execution_count": 4,
   "metadata": {
    "collapsed": true
   },
   "outputs": [],
   "source": [
    "with open('yelpHeld.json') as data_file:    \n",
    "    test_data = json.load(data_file)"
   ]
  },
  {
   "cell_type": "code",
   "execution_count": 5,
   "metadata": {},
   "outputs": [],
   "source": [
    "file = open('glove.twitter.27B.200d.txt', 'r') \n",
    "text_embeddings = file.readlines()\n",
    "word2vec = {}\n",
    "for line in text_embeddings:\n",
    "    items = line.split(' ')\n",
    "    word = items[0]\n",
    "    vec = items[1:]\n",
    "    word2vec[word] = np.asarray(vec, dtype = 'float32')"
   ]
  },
  {
   "cell_type": "code",
   "execution_count": 6,
   "metadata": {},
   "outputs": [],
   "source": [
    "def get_list_of_words(line):\n",
    "    temp = line.replace('\\n','').lower()\n",
    "    temp = \"\".join(char for char in temp if char in 'qwertyuiopasdfghjklzxcvbnm ')\n",
    "    return temp.split(' ')\n",
    "\n",
    "def get_avg_vec(line, word2vec):\n",
    "    words = get_list_of_words(line)\n",
    "    num_words = 0\n",
    "    vec_length = len(word2vec['a'])\n",
    "    avg = np.zeros((vec_length))\n",
    "    valid_words = word2vec.keys()\n",
    "    \n",
    "    for word in words:\n",
    "        if word in valid_words:\n",
    "            vec = word2vec[word]\n",
    "            avg = np.add(avg, vec)\n",
    "            num_words += 1\n",
    "            \n",
    "    if num_words > 0:\n",
    "        avg = avg/num_words\n",
    "    \n",
    "    return avg"
   ]
  },
  {
   "cell_type": "code",
   "execution_count": 7,
   "metadata": {},
   "outputs": [
    {
     "name": "stdout",
     "output_type": "stream",
     "text": [
      "100000\n",
      "200000\n",
      "300000\n",
      "400000\n",
      "500000\n",
      "600000\n",
      "700000\n"
     ]
    }
   ],
   "source": [
    "x_data = []\n",
    "y_data = []\n",
    "\n",
    "for sample in data:\n",
    "    text = sample['text']\n",
    "    x_data.append(get_avg_vec(text, word2vec))\n",
    "    \n",
    "    star_rating = sample['stars']\n",
    "    y_one_hot = [0, 0, 0, 0, 0]\n",
    "    y_one_hot[star_rating-1] = 1\n",
    "    \n",
    "    y_data.append(y_one_hot)\n",
    "    if len(x_data) % 100000 == 0:\n",
    "        print(len(x_data))"
   ]
  },
  {
   "cell_type": "code",
   "execution_count": 8,
   "metadata": {},
   "outputs": [
    {
     "name": "stdout",
     "output_type": "stream",
     "text": [
      "x_data_shape: (749574, 200)\n",
      "y_data_shape: (749574, 5)\n"
     ]
    }
   ],
   "source": [
    "x_data = np.asarray(x_data)\n",
    "y_data = np.asarray(y_data)\n",
    "print(\"x_data_shape:\", x_data.shape)\n",
    "print(\"y_data_shape:\", y_data.shape)"
   ]
  },
  {
   "cell_type": "code",
   "execution_count": 9,
   "metadata": {},
   "outputs": [
    {
     "name": "stderr",
     "output_type": "stream",
     "text": [
      "/anaconda/lib/python3.6/site-packages/h5py/__init__.py:34: FutureWarning: Conversion of the second argument of issubdtype from `float` to `np.floating` is deprecated. In future, it will be treated as `np.float64 == np.dtype(float).type`.\n",
      "  from ._conv import register_converters as _register_converters\n",
      "Using TensorFlow backend.\n",
      "/anaconda/lib/python3.6/importlib/_bootstrap.py:205: RuntimeWarning: compiletime version 3.5 of module 'tensorflow.python.framework.fast_tensor_util' does not match runtime version 3.6\n",
      "  return f(*args, **kwds)\n"
     ]
    }
   ],
   "source": [
    "from keras.layers.core import Dense, Activation, Dropout\n",
    "from keras.models import Sequential"
   ]
  },
  {
   "cell_type": "code",
   "execution_count": 10,
   "metadata": {},
   "outputs": [
    {
     "name": "stdout",
     "output_type": "stream",
     "text": [
      "_________________________________________________________________\n",
      "Layer (type)                 Output Shape              Param #   \n",
      "=================================================================\n",
      "dense_1 (Dense)              (None, 80)                16080     \n",
      "_________________________________________________________________\n",
      "dense_2 (Dense)              (None, 10)                810       \n",
      "_________________________________________________________________\n",
      "dense_3 (Dense)              (None, 5)                 55        \n",
      "=================================================================\n",
      "Total params: 16,945\n",
      "Trainable params: 16,945\n",
      "Non-trainable params: 0\n",
      "_________________________________________________________________\n",
      "None\n",
      "Train on 712095 samples, validate on 37479 samples\n",
      "Epoch 1/10\n"
     ]
    },
    {
     "name": "stderr",
     "output_type": "stream",
     "text": [
      "/anaconda/lib/python3.6/site-packages/keras/models.py:939: UserWarning: The `nb_epoch` argument in `fit` has been renamed `epochs`.\n",
      "  warnings.warn('The `nb_epoch` argument in `fit` '\n"
     ]
    },
    {
     "name": "stdout",
     "output_type": "stream",
     "text": [
      "712095/712095 [==============================] - 4s 6us/step - loss: 0.9988 - acc: 0.5851 - val_loss: 0.9224 - val_acc: 0.6196\n",
      "Epoch 2/10\n",
      "712095/712095 [==============================] - 4s 5us/step - loss: 0.9313 - acc: 0.6148 - val_loss: 0.9158 - val_acc: 0.6193\n",
      "Epoch 3/10\n",
      "712095/712095 [==============================] - 4s 5us/step - loss: 0.9285 - acc: 0.6163 - val_loss: 0.9186 - val_acc: 0.6233\n",
      "Epoch 4/10\n",
      "712095/712095 [==============================] - 4s 5us/step - loss: 0.9274 - acc: 0.6171 - val_loss: 0.9147 - val_acc: 0.6222\n",
      "Epoch 5/10\n",
      "712095/712095 [==============================] - 4s 5us/step - loss: 0.9270 - acc: 0.6174 - val_loss: 0.9157 - val_acc: 0.6229\n",
      "Epoch 6/10\n",
      "712095/712095 [==============================] - 4s 5us/step - loss: 0.9266 - acc: 0.6175 - val_loss: 0.9149 - val_acc: 0.6236\n",
      "Epoch 7/10\n",
      "712095/712095 [==============================] - 4s 5us/step - loss: 0.9268 - acc: 0.6175 - val_loss: 0.9128 - val_acc: 0.6256\n",
      "Epoch 8/10\n",
      "712095/712095 [==============================] - 4s 5us/step - loss: 0.9263 - acc: 0.6179 - val_loss: 0.9147 - val_acc: 0.6245\n",
      "Epoch 9/10\n",
      "712095/712095 [==============================] - 4s 5us/step - loss: 0.9265 - acc: 0.6175 - val_loss: 0.9132 - val_acc: 0.6225\n",
      "Epoch 10/10\n",
      "712095/712095 [==============================] - 4s 5us/step - loss: 0.9259 - acc: 0.6180 - val_loss: 0.9116 - val_acc: 0.6235\n",
      "training time :  38.592257022857666\n"
     ]
    }
   ],
   "source": [
    "vec_length = 200\n",
    "num_classes = 5\n",
    "\n",
    "model = Sequential()\n",
    "model.add(Dense(80, input_dim=vec_length))\n",
    "model.add(Dense(10))\n",
    "model.add(Dense(num_classes, activation='softmax'))\n",
    "\n",
    "model.compile(loss='categorical_crossentropy', optimizer='adam', metrics=['accuracy'])\n",
    "print(model.summary())\n",
    "\n",
    "\n",
    "start = time.time()\n",
    "model.fit(x_data, y_data, batch_size=1024, nb_epoch=10, validation_split=0.05)\n",
    "print('training time : ', time.time() - start)"
   ]
  },
  {
   "cell_type": "code",
   "execution_count": 11,
   "metadata": {},
   "outputs": [
    {
     "name": "stdout",
     "output_type": "stream",
     "text": [
      "100000\n",
      "200000\n"
     ]
    }
   ],
   "source": [
    "x_test_data = []\n",
    "x_text = []\n",
    "x_id = []\n",
    "\n",
    "for sample in test_data:\n",
    "    text = sample['text']\n",
    "    x_test_data.append(get_avg_vec(text, word2vec))\n",
    "    x_id.append(sample['review_id'])\n",
    "    x_text.append(text)\n",
    "    if len(x_test_data) % 100000 == 0:\n",
    "        print(len(x_test_data))\n",
    "        \n",
    "x_test_data = np.asarray(x_test_data)"
   ]
  },
  {
   "cell_type": "code",
   "execution_count": null,
   "metadata": {
    "collapsed": true
   },
   "outputs": [],
   "source": []
  },
  {
   "cell_type": "code",
   "execution_count": 14,
   "metadata": {},
   "outputs": [],
   "source": [
    "y_predict_probs = model.predict(x_test_data)\n",
    "y_predict_stars = []\n",
    "for i in range(y_predict_probs.shape[0]):\n",
    "    star = np.argmax(y_predict_probs[i]) + 1\n",
    "    y_predict_stars.append(star)\n",
    "\n",
    "for i in range(10, 20):\n",
    "    print(y_predict_stars[i], x_text[i], x_id[i])\n",
    "    print()\n",
    "    print()"
   ]
  },
  {
   "cell_type": "code",
   "execution_count": 15,
   "metadata": {},
   "outputs": [
    {
     "data": {
      "text/plain": [
       "250425"
      ]
     },
     "execution_count": 15,
     "metadata": {},
     "output_type": "execute_result"
    }
   ],
   "source": [
    "len(y_predict_stars)"
   ]
  },
  {
   "cell_type": "code",
   "execution_count": 16,
   "metadata": {},
   "outputs": [
    {
     "data": {
      "text/plain": [
       "250425"
      ]
     },
     "execution_count": 16,
     "metadata": {},
     "output_type": "execute_result"
    }
   ],
   "source": [
    "len(x_id)"
   ]
  },
  {
   "cell_type": "code",
   "execution_count": 18,
   "metadata": {
    "collapsed": true
   },
   "outputs": [],
   "source": [
    "file = open('stars_wei_tang_xiao_sampugnaro.csv','w') \n",
    "file.write('review_id,stars\\n')\n",
    "\n",
    "for i in range(len(y_predict_stars)):\n",
    "    file.write(x_id[i] + \",\" + str(y_predict_stars[i]))\n",
    "    file.write('\\n')"
   ]
  },
  {
   "cell_type": "code",
   "execution_count": null,
   "metadata": {
    "collapsed": true
   },
   "outputs": [],
   "source": []
  },
  {
   "cell_type": "code",
   "execution_count": null,
   "metadata": {
    "collapsed": true
   },
   "outputs": [],
   "source": []
  },
  {
   "cell_type": "code",
   "execution_count": null,
   "metadata": {
    "collapsed": true
   },
   "outputs": [],
   "source": []
  },
  {
   "cell_type": "code",
   "execution_count": null,
   "metadata": {
    "collapsed": true
   },
   "outputs": [],
   "source": []
  },
  {
   "cell_type": "code",
   "execution_count": null,
   "metadata": {
    "collapsed": true
   },
   "outputs": [],
   "source": []
  },
  {
   "cell_type": "code",
   "execution_count": null,
   "metadata": {
    "collapsed": true
   },
   "outputs": [],
   "source": []
  },
  {
   "cell_type": "code",
   "execution_count": null,
   "metadata": {
    "collapsed": true
   },
   "outputs": [],
   "source": []
  },
  {
   "cell_type": "code",
   "execution_count": null,
   "metadata": {
    "collapsed": true
   },
   "outputs": [],
   "source": []
  },
  {
   "cell_type": "code",
   "execution_count": null,
   "metadata": {
    "collapsed": true
   },
   "outputs": [],
   "source": []
  },
  {
   "cell_type": "code",
   "execution_count": null,
   "metadata": {
    "collapsed": true
   },
   "outputs": [],
   "source": []
  },
  {
   "cell_type": "code",
   "execution_count": null,
   "metadata": {
    "collapsed": true
   },
   "outputs": [],
   "source": []
  },
  {
   "cell_type": "code",
   "execution_count": null,
   "metadata": {
    "collapsed": true
   },
   "outputs": [],
   "source": []
  },
  {
   "cell_type": "code",
   "execution_count": null,
   "metadata": {
    "collapsed": true
   },
   "outputs": [],
   "source": []
  }
 ],
 "metadata": {
  "kernelspec": {
   "display_name": "Python 3",
   "language": "python",
   "name": "python3"
  },
  "language_info": {
   "codemirror_mode": {
    "name": "ipython",
    "version": 3
   },
   "file_extension": ".py",
   "mimetype": "text/x-python",
   "name": "python",
   "nbconvert_exporter": "python",
   "pygments_lexer": "ipython3",
   "version": "3.6.2"
  }
 },
 "nbformat": 4,
 "nbformat_minor": 2
}
